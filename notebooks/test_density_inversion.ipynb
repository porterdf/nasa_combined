{
 "cells": [
  {
   "cell_type": "code",
   "execution_count": 1,
   "id": "40f9c0d0-a104-449c-87d2-d1b723c3df6d",
   "metadata": {},
   "outputs": [],
   "source": [
    "import os\n",
    "import sys\n",
    "import numpy as np\n",
    "import matplotlib.pyplot as plt\n",
    "import matplotlib.colors as colors\n",
    "import pandas as pd\n",
    "import rasterio\n",
    "\n",
    "%load_ext autoreload\n",
    "%autoreload 2\n",
    "pd.options.mode.chained_assignment = None"
   ]
  },
  {
   "cell_type": "code",
   "execution_count": 2,
   "id": "b97363ae-acc2-478e-bcf2-1b4920848834",
   "metadata": {},
   "outputs": [
    {
     "name": "stdout",
     "output_type": "stream",
     "text": [
      "/Users/dporter/data/Antarctic/ROSETTA/radar\n"
     ]
    }
   ],
   "source": [
    "## Kluge for now (shouldn't use sys append)\n",
    "import sys\n",
    "sys.path.append(\"/Users/dporter/Documents/Research/Projects/nasa_combined\")\n",
    "\n",
    "from nasa_combined.config import data_dir, data_path, cIce, cAir \n",
    "\n",
    "from nasa_combined.custom_funcs import *  # read_DICE_matfile, print_raster\n",
    "\n",
    "print(data_path)"
   ]
  },
  {
   "cell_type": "markdown",
   "id": "33f75a75-1403-4149-ba38-3528e747d13c",
   "metadata": {},
   "source": [
    "# Read in airborne data"
   ]
  },
  {
   "cell_type": "code",
   "execution_count": 6,
   "id": "727d0059-9ed0-4dd0-8acf-2b343f2c1b4f",
   "metadata": {},
   "outputs": [
    {
     "name": "stdout",
     "output_type": "stream",
     "text": [
      "/Users/dporter/data/Antarctic/ROSETTA/radar/for_COMBINED/rosetta_combined.csv\n"
     ]
    }
   ],
   "source": [
    "suffix = '.csv'\n",
    "datafile = 'rosetta_combined'\n",
    "\n",
    "infile = os.path.join(data_path, 'for_COMBINED', datafile + suffix)\n",
    "print(infile)"
   ]
  },
  {
   "cell_type": "markdown",
   "id": "cfa53995-1fd3-4d3b-ad93-04e005fc1d1f",
   "metadata": {},
   "source": [
    "## read in using Pandas and set `unixtime` as index"
   ]
  },
  {
   "cell_type": "code",
   "execution_count": 4,
   "id": "c1165297-4641-49d1-845d-2d46b63e63b2",
   "metadata": {},
   "outputs": [
    {
     "data": {
      "text/html": [
       "<div>\n",
       "<style scoped>\n",
       "    .dataframe tbody tr th:only-of-type {\n",
       "        vertical-align: middle;\n",
       "    }\n",
       "\n",
       "    .dataframe tbody tr th {\n",
       "        vertical-align: top;\n",
       "    }\n",
       "\n",
       "    .dataframe thead th {\n",
       "        text-align: right;\n",
       "    }\n",
       "</style>\n",
       "<table border=\"1\" class=\"dataframe\">\n",
       "  <thead>\n",
       "    <tr style=\"text-align: right;\">\n",
       "      <th></th>\n",
       "      <th>unixtime</th>\n",
       "      <th>Line</th>\n",
       "      <th>X_EPSG_3031</th>\n",
       "      <th>Y_EPSG_3031</th>\n",
       "      <th>unixtime.1</th>\n",
       "      <th>thickness_dice</th>\n",
       "      <th>rosetta_lidar</th>\n",
       "      <th>rosetta_lidar_wrtgeo</th>\n",
       "      <th>rosetta_lidar_thickness</th>\n",
       "      <th>diff_diceltthick_rsaltthick</th>\n",
       "      <th>dice_thick_bedmapthick</th>\n",
       "      <th>icebase_dice</th>\n",
       "      <th>PickTime</th>\n",
       "    </tr>\n",
       "  </thead>\n",
       "  <tbody>\n",
       "    <tr>\n",
       "      <th>0</th>\n",
       "      <td>2016-12-02 23:52:13</td>\n",
       "      <td>L20</td>\n",
       "      <td>-178255.739629</td>\n",
       "      <td>-460417.119902</td>\n",
       "      <td>1.480723e+09</td>\n",
       "      <td>NaN</td>\n",
       "      <td>166.500472</td>\n",
       "      <td>203.484556</td>\n",
       "      <td>1851.169232</td>\n",
       "      <td>NaN</td>\n",
       "      <td>NaN</td>\n",
       "      <td>NaN</td>\n",
       "      <td>NaN</td>\n",
       "    </tr>\n",
       "    <tr>\n",
       "      <th>1</th>\n",
       "      <td>2016-12-02 23:52:14</td>\n",
       "      <td>L20</td>\n",
       "      <td>-178346.076341</td>\n",
       "      <td>-460417.397744</td>\n",
       "      <td>1.480723e+09</td>\n",
       "      <td>NaN</td>\n",
       "      <td>166.328215</td>\n",
       "      <td>203.316570</td>\n",
       "      <td>1849.641012</td>\n",
       "      <td>NaN</td>\n",
       "      <td>NaN</td>\n",
       "      <td>NaN</td>\n",
       "      <td>NaN</td>\n",
       "    </tr>\n",
       "    <tr>\n",
       "      <th>2</th>\n",
       "      <td>2016-12-02 23:52:15</td>\n",
       "      <td>L20</td>\n",
       "      <td>-178436.480663</td>\n",
       "      <td>-460417.972846</td>\n",
       "      <td>1.480723e+09</td>\n",
       "      <td>NaN</td>\n",
       "      <td>166.155938</td>\n",
       "      <td>203.148576</td>\n",
       "      <td>1848.112705</td>\n",
       "      <td>NaN</td>\n",
       "      <td>NaN</td>\n",
       "      <td>NaN</td>\n",
       "      <td>NaN</td>\n",
       "    </tr>\n",
       "    <tr>\n",
       "      <th>3</th>\n",
       "      <td>2016-12-02 23:52:16</td>\n",
       "      <td>L20</td>\n",
       "      <td>-178526.896118</td>\n",
       "      <td>-460418.579014</td>\n",
       "      <td>1.480723e+09</td>\n",
       "      <td>NaN</td>\n",
       "      <td>165.983822</td>\n",
       "      <td>202.980743</td>\n",
       "      <td>1846.585878</td>\n",
       "      <td>NaN</td>\n",
       "      <td>NaN</td>\n",
       "      <td>NaN</td>\n",
       "      <td>NaN</td>\n",
       "    </tr>\n",
       "    <tr>\n",
       "      <th>4</th>\n",
       "      <td>2016-12-02 23:52:17</td>\n",
       "      <td>L20</td>\n",
       "      <td>-178617.232081</td>\n",
       "      <td>-460419.255438</td>\n",
       "      <td>1.480723e+09</td>\n",
       "      <td>NaN</td>\n",
       "      <td>165.812069</td>\n",
       "      <td>202.813272</td>\n",
       "      <td>1845.062336</td>\n",
       "      <td>NaN</td>\n",
       "      <td>NaN</td>\n",
       "      <td>NaN</td>\n",
       "      <td>NaN</td>\n",
       "    </tr>\n",
       "  </tbody>\n",
       "</table>\n",
       "</div>"
      ],
      "text/plain": [
       "              unixtime Line    X_EPSG_3031    Y_EPSG_3031    unixtime.1  \\\n",
       "0  2016-12-02 23:52:13  L20 -178255.739629 -460417.119902  1.480723e+09   \n",
       "1  2016-12-02 23:52:14  L20 -178346.076341 -460417.397744  1.480723e+09   \n",
       "2  2016-12-02 23:52:15  L20 -178436.480663 -460417.972846  1.480723e+09   \n",
       "3  2016-12-02 23:52:16  L20 -178526.896118 -460418.579014  1.480723e+09   \n",
       "4  2016-12-02 23:52:17  L20 -178617.232081 -460419.255438  1.480723e+09   \n",
       "\n",
       "   thickness_dice  rosetta_lidar  rosetta_lidar_wrtgeo  \\\n",
       "0             NaN     166.500472            203.484556   \n",
       "1             NaN     166.328215            203.316570   \n",
       "2             NaN     166.155938            203.148576   \n",
       "3             NaN     165.983822            202.980743   \n",
       "4             NaN     165.812069            202.813272   \n",
       "\n",
       "   rosetta_lidar_thickness  diff_diceltthick_rsaltthick  \\\n",
       "0              1851.169232                          NaN   \n",
       "1              1849.641012                          NaN   \n",
       "2              1848.112705                          NaN   \n",
       "3              1846.585878                          NaN   \n",
       "4              1845.062336                          NaN   \n",
       "\n",
       "   dice_thick_bedmapthick  icebase_dice  PickTime  \n",
       "0                     NaN           NaN       NaN  \n",
       "1                     NaN           NaN       NaN  \n",
       "2                     NaN           NaN       NaN  \n",
       "3                     NaN           NaN       NaN  \n",
       "4                     NaN           NaN       NaN  "
      ]
     },
     "execution_count": 4,
     "metadata": {},
     "output_type": "execute_result"
    }
   ],
   "source": [
    "df = pd.read_csv('../data/processed/test_ROSETTA_combined_twtt.csv')\n",
    "df.head()"
   ]
  },
  {
   "cell_type": "code",
   "execution_count": null,
   "id": "71e16a34-e4f2-4731-9e71-2fc27ec33ebf",
   "metadata": {},
   "outputs": [],
   "source": []
  }
 ],
 "metadata": {
  "kernelspec": {
   "display_name": "Python 3 (ipykernel)",
   "language": "python",
   "name": "python3"
  },
  "language_info": {
   "codemirror_mode": {
    "name": "ipython",
    "version": 3
   },
   "file_extension": ".py",
   "mimetype": "text/x-python",
   "name": "python",
   "nbconvert_exporter": "python",
   "pygments_lexer": "ipython3",
   "version": "3.10.6"
  }
 },
 "nbformat": 4,
 "nbformat_minor": 5
}
